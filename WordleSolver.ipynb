{
 "cells": [
  {
   "cell_type": "code",
   "execution_count": 1,
   "id": "7a1128e3-bc63-44f4-be96-93cde61ffea6",
   "metadata": {
    "tags": []
   },
   "outputs": [],
   "source": [
    "from WordleSolver import WordleSolver\n",
    "ws = WordleSolver()"
   ]
  },
  {
   "cell_type": "code",
   "execution_count": 2,
   "id": "dc31726e-171b-471e-90ab-12959f7482ca",
   "metadata": {},
   "outputs": [
    {
     "data": {
      "text/plain": [
       "['larch', 'larva', 'lavra']"
      ]
     },
     "execution_count": 2,
     "metadata": {},
     "output_type": "execute_result"
    }
   ],
   "source": [
    "ws.setYellowLetter('r', 1)\n",
    "ws.setYellowLetter('a', 4)\n",
    "ws.setGreenLetter('l', 1)\n",
    "ws.setGrayLetters('oundswetimby')\n",
    "ws.solveWordle()\n",
    "ws.answers"
   ]
  }
 ],
 "metadata": {
  "kernelspec": {
   "display_name": "Python 3 (ipykernel)",
   "language": "python",
   "name": "python3"
  },
  "language_info": {
   "codemirror_mode": {
    "name": "ipython",
    "version": 3
   },
   "file_extension": ".py",
   "mimetype": "text/x-python",
   "name": "python",
   "nbconvert_exporter": "python",
   "pygments_lexer": "ipython3",
   "version": "3.9.6"
  }
 },
 "nbformat": 4,
 "nbformat_minor": 5
}
